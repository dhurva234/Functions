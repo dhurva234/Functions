{
  "cells": [
    {
      "cell_type": "markdown",
      "metadata": {
        "id": "swL9yQxcna0E"
      },
      "source": [
        "1. What is the difference between a function and a method in Python ?\n",
        "   - Functions: A function is a block of organized\n",
        "     reusable code that performs a specific tasks.it's defined independently and can be called by it's name.\n",
        "\n",
        "     Example:\n",
        "            def greet(dhruv):\n",
        "              print(f\"hello,{dhruv}!\")\n",
        "           greet(\"world\")\n",
        "       \n",
        "   - Method: A method is also a block of organized,\n",
        "     resuable code,but it's associated with an object .methods can access and modify the object's data.\n",
        "\n",
        "     Example:\n",
        "            my_string = \"hello\"\n",
        "            print(my_string.upper())\n",
        "\n",
        "2. Explain the concept of function arguments and\n",
        "   parameters in Python ?\n",
        "   - Parameters: These are the variables listed inside\n",
        "     the parenthesis in the function definition.they act as placeholders of the values that will be passed to the function.\n",
        "    \n",
        "     Example:\n",
        "            def add(x,Y) # x and y are parameters\n",
        "            return x+y\n",
        "\n",
        "  -  Arguments: These are the actual values that are\n",
        "     passed to the funcations when you call it.these values are assigned to the corresponding parameters in the function definition.        \n",
        "\n",
        "     Example:\n",
        "             result = add(5,3) #5 and 3 are arguments\n",
        "             print(result)\n",
        "\n",
        "3. What are the different ways to define and call a\n",
        "   function in Python ?             \n",
        "   - Ways to define:\n",
        "        - Using the def keyword:This is the most\n",
        "          commom way to define a functions.  \n",
        "             Example:\n",
        "                     def my_function():\n",
        "                      print(\"Hello from a functions!\")\n",
        "\n",
        "        - Using lambda functions: These are small     single-expression anonymous functions define using lambda keyword.\n",
        "               Example:\n",
        "                      square = lambda x: X*X\n",
        "\n",
        "  - Ways to call:\n",
        "        - Direct call: Simply using the function name\n",
        "          followed by parenthesis,providing arguments if necesary.\n",
        "                Example:\n",
        "                       my_function()\n",
        "                       result = add(10,20)\n",
        "\n",
        "     - Calling a method on an object: Using dot\n",
        "         notation on an object of a class.\n",
        "               Example:\n",
        "                       my_dog = Dog(\"Max\")\n",
        "                       my_dog.bark()\n",
        "\n",
        "    - Calling to lambda function: Assigment the lambda function to a\n",
        "          variable and then calling it .\n",
        "              Example:\n",
        "                     squared_value = square(7)\n",
        "                     print(squared_value)\n",
        "\n",
        "                             \n",
        "4. What is the purpose of the `return` statement in a Python function ?\n",
        "   - the return statment serves two main purposes in a python function:\n",
        "\n",
        "     (1).To send a value back to the caller: When a return statment is\n",
        "        executed,it immediately exist the function and optionally send a\n",
        "        specific value back to the part of the code that called the function.\n",
        "           \n",
        "     (2).To terminate the function's execuation: if a return statment is\n",
        "        encounterd,the function's execution stop at the point,even if there are more lines of code within the function.if no return statment is explicity used,or if retun is used without a value,the function implicity retuns none.\n",
        "\n",
        "                 Example:\n",
        "                         def multiply(a,b):\n",
        "                           result = a*b\n",
        "                           return result  # Return the calculated product\n",
        "\n",
        "                         product = multiply(4,6)\n",
        "                         print(product)    # Output:24\n",
        "\n",
        "                         def say_hellp(dhurva):\n",
        "                           print(f\"Hi, {dhurva}!\")\n",
        "                           return # Terminates the function no value returned explicitly\n",
        "\n",
        "5. What are iterators in Python and how do they differ\n",
        "   from iterables ?\n",
        "   - Iterable: An iterable is any python object that\n",
        "     can return its members one at a time  allowing it to be iterated over in a for loop.\n",
        "\n",
        "     - They implement the __iter__() method, which an  \n",
        "      returns an iterator object.\n",
        "\n",
        "                  Example: lists, tuples, strings, dictionaries, sets, files.\n",
        "\n",
        "\n",
        "  - Iterators: An iterator is an object that represents a stream of data. It implements the __next__() method, which returns the next item in the stream.\n",
        "\n",
        "       - It keeps track of its current position within the iterable.\n",
        "       - When there are no more items, it raises a StopIteration exception.\n",
        "       - You can use the built-in function next() to manually retrieve the next item from an iterator.  \n",
        "\n",
        "              Example:\n",
        "               my_list = [1, 2, 3]  # Iterable\n",
        "               my_iterator = iter(my_list)  # Get an iterator from the list\n",
        "\n",
        "              print(next(my_iterator))  # Output: 1\n",
        "              print(next(my_iterator))  # Output: 2\n",
        "              print(next(my_iterator))  # Output: 3\n",
        "              # print(next(my_iterator))  # Raises StopIteration\n",
        "\n",
        "6. Explain the concept of generators in Python and how they are defined.\n",
        "   - Generators: Generators are a special type of\n",
        "     iterator in Python that provide a concise way to create iterators without the need to define a separate iterator class. They are defined using functions, but instead of using the return statement, they use the yield keyword.\n",
        "\n",
        "       - How Generators Works:\n",
        "            - WorkWhen a generator function is called, it doesn't execute the function body immediately. Instead, it returns a generator object.\n",
        "\n",
        "            - Each time the next() function is called\n",
        "              on the generator object, the generator function executes until it encounters a yield statement.\n",
        "\n",
        "            - The value specified by the yield   statement is then returned to the caller, and the generator function's state is saved.\n",
        "\n",
        "      - The next time next() is called, the\n",
        "            generator function resumes execution from where it left off, continuing until the next yield statement is encountered.\n",
        "           \n",
        "      - This process continues until the generator function reaches its end or raises a StopIteration exception.\n",
        "\n",
        "7.  What are the advantages of using generators over regular functions ?\n",
        "   - Advantages of Generators:\n",
        "\n",
        "        (1). Memory Efficiency: Generators produce\n",
        "  values on demand, so they don't need to store all the values in memory at once. This is especially useful when dealing with large datasets or infinite sequences. Regular functions, on the other hand, would need to create and store the entire sequence in memory before returning it, which can be very memory-intensive.\n",
        "\n",
        "        (2). Lazy Evaluation: Generators only generate\n",
        "   values when they are needed. This can improve performance in some cases, especially when dealing with long or complex computations. Regular functions would need to perform all the computations upfront, even if only a few values are needed.\n",
        "\n",
        "      (3). Readability and Conciseness: Generators can\n",
        "  make code more concise and easier to understand compared to using iterators explicitly. The yield keyword provides a simple and intuitive way to define how values are generated. Regular functions would require more complex logic to implement the same functionality.\n",
        "\n",
        "       (4).  Representing Infinite Sequence Generators\n",
        "  can be used to represent infinite sequences, such as the sequence of natural numbers or Fibonacci numbers. Regular functions cannot represent infinite sequences directly because they would need to return an infinitely large data structure.  \n",
        "\n",
        "      (5). Pichained together to create pipelines of  data processing. This can be a powerful way to break down complex tasks into smaller, more manageable steps. Regular functions would require intermediate data structures to store the results of each step.\n",
        "                       Example:\n",
        "                             # Generator function\n",
        "                            def generate_squares(n):\n",
        "                                for i in range(n):\n",
        "                                    yield i**2\n",
        "\n",
        "                            # Regular function\n",
        "                            def get_squares(n):\n",
        "                                squares = []\n",
        "                                for i in range(n):\n",
        "                                    squares.append(i**2)\n",
        "                                return squares\n",
        "\n",
        "                              # Using the generator\n",
        "                              for square in generate_squares(10):\n",
        "                                  print(square)\n",
        "\n",
        "                              # Using the regular function\n",
        "                              squares = get_squares(10)\n",
        "                              for square in squares:\n",
        "                                  print(square)\n",
        "   \n",
        "\n",
        "8.  What is a lambda function in Python and when is it typically used ?\n",
        "    -  Lambda Functions: A lambda function is a small, anonymous function defined using the lambda keyword. It can have any number of arguments but can only have one expression. Lambda functions are often used for short, simple operations that don't require a full function definition.\n",
        "\n",
        "         - When to Use lambda functions:\n",
        "\n",
        "           (1). Short, Simple Operations: When you need to define a simple function for a one-time use, a lambda function can be more concise than a regular function.\n",
        "\n",
        "          (2). Higher-Order Functions: Lambda functions are often used as arguments to higher-order functions like map(), filter(), and reduce(). These functions take other functions as input and apply them to a sequence of elements.\n",
        "\n",
        "          (3). Callbacks: Lambda functions can be used\n",
        "              as callbacks in event-driven programming. A callback is a function that is executed when a specific event occurs.\n",
        "\n",
        "          (4). Creating Closures: Lambda functions can\n",
        "            be used to create closures, which are functions that remember the values of variables in their enclosing scope.   \n",
        "\n",
        "                    Example:\n",
        "                           # Regular function\n",
        "                           def square(x):\n",
        "                                return x * x\n",
        "\n",
        "                            # Lambda function\n",
        "                            square_lambda = lambda x: x * x\n",
        "\n",
        "                            # Calling both functions\n",
        "                            print(square(5))  # Output: 25\n",
        "                            print(square_lambda(5))  # Output: 25\n",
        "\n",
        " 9.  Explain the purpose and usage of the `map()` function in Python ?\n",
        "     -  Purpose: The map() function applies a given\n",
        "        function to each item of an iterable (e.g., list, tuple) and returns an iterator of the results. It essentially \"maps\" the function to each element of the iterable.\n",
        "\n",
        "      - function: The function to be applied to\n",
        "        each item of the iterable.\n",
        "\n",
        "        - iterable: The iterable containing the items\n",
        "          to be processed.\n",
        "\n",
        "       - Optional, additional iterables. If provided,\n",
        "         the function must accept the same number of arguments as the number of iterables.\n",
        "\n",
        "           - Usage:\n",
        "            The map() function is commonly used for the following:\n",
        "\n",
        "           (1). Applying a Function to Each Element: You can use map() to transform each element of an iterable using a specific function. For example, squaring each number in a list.\n",
        "\n",
        "           (2). Parallel Processing: map() can be used to apply a function to multiple iterables in parallel, which can improve performance in certain scenarios.\n",
        "\n",
        "            (3). Creating New Iterables: map() returns an iterator, which can be used to create new iterables like lists, tuples, or sets.\n",
        "                           Example:\n",
        "                                  numbers = [1, 2, 3, 4, 5]\n",
        "\n",
        "                                  # Square each number using a lambda function\n",
        "                                  squared_numbers = list(map(lambda x: x * x, numbers))\n",
        "\n",
        "                                  print(squared_numbers)  # Output: [1, 4, 9, 16, 25]\n",
        "\n",
        "10. . What is the difference between `map()`, `reduce()`, and `filter()` functions in Python ?\n",
        "      -  map():\n",
        "\n",
        "           - Purpose: Applies a function to each item of an iterable and returns an iterator of the results.\n",
        "\n",
        "           - Input: A function and one or more iterables.\n",
        "\n",
        "         - Output: An iterator containing the results of applying the function to each item of the iterable(s).\n",
        "\n",
        "               Example: list(map(lambda x: x * x, [1,\n",
        "                        2, 3])) would return [1, 4, 9].\n",
        "\n",
        "     - reduce():\n",
        "\n",
        "          - Purpose: Applies a function cumulatively to the items of an iterable, reducing them to a single value.\n",
        "          \n",
        "          - Input: A function and an iterable.\n",
        "\n",
        "          - Output: A single value that is the result of applying the function cumulatively to the items of the iterable.\n",
        "\n",
        "                 Example: reduce(lambda x, y: x + y, [1, 2, 3]) would return 6.\n",
        "\n",
        "\n",
        "   - filter():\n",
        "        - Purpose:Filters an iterable by applying a function to each item and returning an iterator containing only the items for which the function returns True.\n",
        "\n",
        "      - Input:A function and an iterable.\n",
        "\n",
        "      - Output:An iterator containing only the items of the iterable for which the function returns True.\n",
        "\n",
        "                    Example: list(filter(lambda x: x % 2 == 0, [1, 2, 3, 4, 5])) would return [2, 4].\n",
        "\n",
        "\n",
        "11. 1. Using pen & Paper write the internal mechanism for sum operation using  reduce function on this given\n",
        "list:[47,11,42,13];              ( upload by using of code )\n"
      ]
    },
    {
      "cell_type": "code",
      "execution_count": null,
      "metadata": {
        "colab": {
          "base_uri": "https://localhost:8080/"
        },
        "id": "5EGEFyHiRSwG",
        "outputId": "4a3f4c95-aeaf-413e-a45a-6715ffaef64d"
      },
      "outputs": [
        {
          "name": "stdout",
          "output_type": "stream",
          "text": [
            "Drive already mounted at /content/drive; to attempt to forcibly remount, call drive.mount(\"/content/drive\", force_remount=True).\n"
          ]
        }
      ],
      "source": [
        "from google.colab import files\n",
        "drive.mount('/content/drive')"
      ]
    },
    {
      "cell_type": "code",
      "execution_count": 6,
      "metadata": {
        "colab": {
          "base_uri": "https://localhost:8080/",
          "height": 73
        },
        "id": "wGqrNhdOR7qu",
        "outputId": "b46ded11-ad7f-4204-8269-0e70f0a57a48"
      },
      "outputs": [
        {
          "output_type": "display_data",
          "data": {
            "text/plain": [
              "<IPython.core.display.HTML object>"
            ],
            "text/html": [
              "\n",
              "     <input type=\"file\" id=\"files-8eea2b2a-7552-420a-a4f6-6986d6c8bc7c\" name=\"files[]\" multiple disabled\n",
              "        style=\"border:none\" />\n",
              "     <output id=\"result-8eea2b2a-7552-420a-a4f6-6986d6c8bc7c\">\n",
              "      Upload widget is only available when the cell has been executed in the\n",
              "      current browser session. Please rerun this cell to enable.\n",
              "      </output>\n",
              "      <script>// Copyright 2017 Google LLC\n",
              "//\n",
              "// Licensed under the Apache License, Version 2.0 (the \"License\");\n",
              "// you may not use this file except in compliance with the License.\n",
              "// You may obtain a copy of the License at\n",
              "//\n",
              "//      http://www.apache.org/licenses/LICENSE-2.0\n",
              "//\n",
              "// Unless required by applicable law or agreed to in writing, software\n",
              "// distributed under the License is distributed on an \"AS IS\" BASIS,\n",
              "// WITHOUT WARRANTIES OR CONDITIONS OF ANY KIND, either express or implied.\n",
              "// See the License for the specific language governing permissions and\n",
              "// limitations under the License.\n",
              "\n",
              "/**\n",
              " * @fileoverview Helpers for google.colab Python module.\n",
              " */\n",
              "(function(scope) {\n",
              "function span(text, styleAttributes = {}) {\n",
              "  const element = document.createElement('span');\n",
              "  element.textContent = text;\n",
              "  for (const key of Object.keys(styleAttributes)) {\n",
              "    element.style[key] = styleAttributes[key];\n",
              "  }\n",
              "  return element;\n",
              "}\n",
              "\n",
              "// Max number of bytes which will be uploaded at a time.\n",
              "const MAX_PAYLOAD_SIZE = 100 * 1024;\n",
              "\n",
              "function _uploadFiles(inputId, outputId) {\n",
              "  const steps = uploadFilesStep(inputId, outputId);\n",
              "  const outputElement = document.getElementById(outputId);\n",
              "  // Cache steps on the outputElement to make it available for the next call\n",
              "  // to uploadFilesContinue from Python.\n",
              "  outputElement.steps = steps;\n",
              "\n",
              "  return _uploadFilesContinue(outputId);\n",
              "}\n",
              "\n",
              "// This is roughly an async generator (not supported in the browser yet),\n",
              "// where there are multiple asynchronous steps and the Python side is going\n",
              "// to poll for completion of each step.\n",
              "// This uses a Promise to block the python side on completion of each step,\n",
              "// then passes the result of the previous step as the input to the next step.\n",
              "function _uploadFilesContinue(outputId) {\n",
              "  const outputElement = document.getElementById(outputId);\n",
              "  const steps = outputElement.steps;\n",
              "\n",
              "  const next = steps.next(outputElement.lastPromiseValue);\n",
              "  return Promise.resolve(next.value.promise).then((value) => {\n",
              "    // Cache the last promise value to make it available to the next\n",
              "    // step of the generator.\n",
              "    outputElement.lastPromiseValue = value;\n",
              "    return next.value.response;\n",
              "  });\n",
              "}\n",
              "\n",
              "/**\n",
              " * Generator function which is called between each async step of the upload\n",
              " * process.\n",
              " * @param {string} inputId Element ID of the input file picker element.\n",
              " * @param {string} outputId Element ID of the output display.\n",
              " * @return {!Iterable<!Object>} Iterable of next steps.\n",
              " */\n",
              "function* uploadFilesStep(inputId, outputId) {\n",
              "  const inputElement = document.getElementById(inputId);\n",
              "  inputElement.disabled = false;\n",
              "\n",
              "  const outputElement = document.getElementById(outputId);\n",
              "  outputElement.innerHTML = '';\n",
              "\n",
              "  const pickedPromise = new Promise((resolve) => {\n",
              "    inputElement.addEventListener('change', (e) => {\n",
              "      resolve(e.target.files);\n",
              "    });\n",
              "  });\n",
              "\n",
              "  const cancel = document.createElement('button');\n",
              "  inputElement.parentElement.appendChild(cancel);\n",
              "  cancel.textContent = 'Cancel upload';\n",
              "  const cancelPromise = new Promise((resolve) => {\n",
              "    cancel.onclick = () => {\n",
              "      resolve(null);\n",
              "    };\n",
              "  });\n",
              "\n",
              "  // Wait for the user to pick the files.\n",
              "  const files = yield {\n",
              "    promise: Promise.race([pickedPromise, cancelPromise]),\n",
              "    response: {\n",
              "      action: 'starting',\n",
              "    }\n",
              "  };\n",
              "\n",
              "  cancel.remove();\n",
              "\n",
              "  // Disable the input element since further picks are not allowed.\n",
              "  inputElement.disabled = true;\n",
              "\n",
              "  if (!files) {\n",
              "    return {\n",
              "      response: {\n",
              "        action: 'complete',\n",
              "      }\n",
              "    };\n",
              "  }\n",
              "\n",
              "  for (const file of files) {\n",
              "    const li = document.createElement('li');\n",
              "    li.append(span(file.name, {fontWeight: 'bold'}));\n",
              "    li.append(span(\n",
              "        `(${file.type || 'n/a'}) - ${file.size} bytes, ` +\n",
              "        `last modified: ${\n",
              "            file.lastModifiedDate ? file.lastModifiedDate.toLocaleDateString() :\n",
              "                                    'n/a'} - `));\n",
              "    const percent = span('0% done');\n",
              "    li.appendChild(percent);\n",
              "\n",
              "    outputElement.appendChild(li);\n",
              "\n",
              "    const fileDataPromise = new Promise((resolve) => {\n",
              "      const reader = new FileReader();\n",
              "      reader.onload = (e) => {\n",
              "        resolve(e.target.result);\n",
              "      };\n",
              "      reader.readAsArrayBuffer(file);\n",
              "    });\n",
              "    // Wait for the data to be ready.\n",
              "    let fileData = yield {\n",
              "      promise: fileDataPromise,\n",
              "      response: {\n",
              "        action: 'continue',\n",
              "      }\n",
              "    };\n",
              "\n",
              "    // Use a chunked sending to avoid message size limits. See b/62115660.\n",
              "    let position = 0;\n",
              "    do {\n",
              "      const length = Math.min(fileData.byteLength - position, MAX_PAYLOAD_SIZE);\n",
              "      const chunk = new Uint8Array(fileData, position, length);\n",
              "      position += length;\n",
              "\n",
              "      const base64 = btoa(String.fromCharCode.apply(null, chunk));\n",
              "      yield {\n",
              "        response: {\n",
              "          action: 'append',\n",
              "          file: file.name,\n",
              "          data: base64,\n",
              "        },\n",
              "      };\n",
              "\n",
              "      let percentDone = fileData.byteLength === 0 ?\n",
              "          100 :\n",
              "          Math.round((position / fileData.byteLength) * 100);\n",
              "      percent.textContent = `${percentDone}% done`;\n",
              "\n",
              "    } while (position < fileData.byteLength);\n",
              "  }\n",
              "\n",
              "  // All done.\n",
              "  yield {\n",
              "    response: {\n",
              "      action: 'complete',\n",
              "    }\n",
              "  };\n",
              "}\n",
              "\n",
              "scope.google = scope.google || {};\n",
              "scope.google.colab = scope.google.colab || {};\n",
              "scope.google.colab._files = {\n",
              "  _uploadFiles,\n",
              "  _uploadFilesContinue,\n",
              "};\n",
              "})(self);\n",
              "</script> "
            ]
          },
          "metadata": {}
        },
        {
          "output_type": "stream",
          "name": "stdout",
          "text": [
            "Saving Ques. 11.pdf to Ques. 11.pdf\n"
          ]
        }
      ],
      "source": [
        "uploaded = files.upload()"
      ]
    },
    {
      "cell_type": "markdown",
      "source": [
        "Ques 1.Write a Python function that takes a list of numbers as input and returns the sum of all even numbers in\n",
        "the list."
      ],
      "metadata": {
        "id": "zMzZNyzbfYoI"
      }
    },
    {
      "cell_type": "code",
      "source": [
        "def sum_of_even_numbers(numbers):\n",
        "  \"\"\"\n",
        "  Calculates the sum of all even numbers in a list.\n",
        "\n",
        "  Args:\n",
        "    numbers: A list of numbers.\n",
        "\n",
        "  Returns:\n",
        "    The sum of all even numbers in the list.\n",
        "  \"\"\"\n",
        "  sum_even = 0\n",
        "  for number in numbers:\n",
        "    if number % 2 == 0:  # Check if the number is even\n",
        "      sum_even += number  # Add even number to the sum\n",
        "  return sum_even\n",
        "\n",
        "# Example usage\n",
        "number_list = [1, 2, 3, 4, 5, 6]\n",
        "even_sum = sum_of_even_numbers(number_list)\n",
        "print(f\"The sum of even numbers in the list is: {even_sum}\")"
      ],
      "metadata": {
        "colab": {
          "base_uri": "https://localhost:8080/"
        },
        "id": "AKQXI8vrffqf",
        "outputId": "86232d6e-746b-47f4-9c1f-9cc477799cd6"
      },
      "execution_count": 7,
      "outputs": [
        {
          "output_type": "stream",
          "name": "stdout",
          "text": [
            "The sum of even numbers in the list is: 12\n"
          ]
        }
      ]
    },
    {
      "cell_type": "markdown",
      "source": [
        "Ques 2.Create a Python function that accepts a string and returns the reverse of that string."
      ],
      "metadata": {
        "id": "nItns7aLfo0h"
      }
    },
    {
      "cell_type": "code",
      "source": [
        "def reverse_string(text):\n",
        "  \"\"\"\n",
        "  Reverses a given string.\n",
        "\n",
        "  Args:\n",
        "    text: The string to be reversed.\n",
        "\n",
        "  Returns:\n",
        "    The reversed string.\n",
        "  \"\"\"\n",
        "  return text[::-1]\n",
        "\n",
        "# Example usage\n",
        "string = \"Hello, world!\"\n",
        "reversed_string = reverse_string(string)\n",
        "print(f\"The reversed string is: {reversed_string}\")"
      ],
      "metadata": {
        "colab": {
          "base_uri": "https://localhost:8080/"
        },
        "id": "khsJRmNKf7k9",
        "outputId": "84b7eefa-177a-4ad7-c629-af5b01959ed6"
      },
      "execution_count": 8,
      "outputs": [
        {
          "output_type": "stream",
          "name": "stdout",
          "text": [
            "The reversed string is: !dlrow ,olleH\n"
          ]
        }
      ]
    },
    {
      "cell_type": "markdown",
      "source": [
        "Ques 3.. Implement a Python function that takes a list of integers and returns a new list containing the squares of\n",
        "each number."
      ],
      "metadata": {
        "id": "4q5v7ZoVf917"
      }
    },
    {
      "cell_type": "code",
      "source": [
        "def square_numbers(numbers):\n",
        "  \"\"\"\n",
        "  Squares each number in a list.\n",
        "\n",
        "  Args:\n",
        "    numbers: A list of integers.\n",
        "\n",
        "  Returns:\n",
        "    A new list containing the squares of each number.\n",
        "  \"\"\"\n",
        "  squared_numbers = []\n",
        "  for number in numbers:\n",
        "    squared_numbers.append(number * number)\n",
        "  return squared_numbers\n",
        "\n",
        "# Example usage\n",
        "numbers = [1, 2, 3, 4, 5]\n",
        "squared_list = square_numbers(numbers)\n",
        "print(f\"The squared numbers are: {squared_list}\")"
      ],
      "metadata": {
        "colab": {
          "base_uri": "https://localhost:8080/"
        },
        "id": "wSqkrxqZfswm",
        "outputId": "80abc1d3-31ac-4e6b-96bd-03ef1e129c40"
      },
      "execution_count": 9,
      "outputs": [
        {
          "output_type": "stream",
          "name": "stdout",
          "text": [
            "The squared numbers are: [1, 4, 9, 16, 25]\n"
          ]
        }
      ]
    },
    {
      "cell_type": "markdown",
      "source": [
        "Ques 4.Write a Python function that checks if a given number is prime or not from 1 to 200."
      ],
      "metadata": {
        "id": "OMxeKY8fgk-v"
      }
    },
    {
      "cell_type": "code",
      "source": [
        "def is_prime(number):\n",
        "  \"\"\"\n",
        "  Checks if a number is prime.\n",
        "\n",
        "  Args:\n",
        "    number: The number to check.\n",
        "\n",
        "  Returns:\n",
        "    True if the number is prime, False otherwise.\n",
        "  \"\"\"\n",
        "  if number <= 1:\n",
        "    return False  # Numbers less than or equal to 1 are not prime\n",
        "\n",
        "  # Check for divisibility from 2 to the square root of the number\n",
        "  for i in range(2, int(number**0.5) + 1):\n",
        "    if number % i == 0:\n",
        "      return False  # If divisible by any number, it's not prime\n",
        "\n",
        "  return True  # If not divisible by any number, it's prime\n",
        "\n",
        "# Example usage to check prime numbers from 1 to 200\n",
        "for num in range(1, 201):\n",
        "  if is_prime(num):\n",
        "    print(f\"{num} is a prime number\")"
      ],
      "metadata": {
        "colab": {
          "base_uri": "https://localhost:8080/"
        },
        "id": "q4AkQQiSgs0h",
        "outputId": "3dbf8ec3-69af-409a-a5e5-701d8ca20cc8"
      },
      "execution_count": 10,
      "outputs": [
        {
          "output_type": "stream",
          "name": "stdout",
          "text": [
            "2 is a prime number\n",
            "3 is a prime number\n",
            "5 is a prime number\n",
            "7 is a prime number\n",
            "11 is a prime number\n",
            "13 is a prime number\n",
            "17 is a prime number\n",
            "19 is a prime number\n",
            "23 is a prime number\n",
            "29 is a prime number\n",
            "31 is a prime number\n",
            "37 is a prime number\n",
            "41 is a prime number\n",
            "43 is a prime number\n",
            "47 is a prime number\n",
            "53 is a prime number\n",
            "59 is a prime number\n",
            "61 is a prime number\n",
            "67 is a prime number\n",
            "71 is a prime number\n",
            "73 is a prime number\n",
            "79 is a prime number\n",
            "83 is a prime number\n",
            "89 is a prime number\n",
            "97 is a prime number\n",
            "101 is a prime number\n",
            "103 is a prime number\n",
            "107 is a prime number\n",
            "109 is a prime number\n",
            "113 is a prime number\n",
            "127 is a prime number\n",
            "131 is a prime number\n",
            "137 is a prime number\n",
            "139 is a prime number\n",
            "149 is a prime number\n",
            "151 is a prime number\n",
            "157 is a prime number\n",
            "163 is a prime number\n",
            "167 is a prime number\n",
            "173 is a prime number\n",
            "179 is a prime number\n",
            "181 is a prime number\n",
            "191 is a prime number\n",
            "193 is a prime number\n",
            "197 is a prime number\n",
            "199 is a prime number\n"
          ]
        }
      ]
    },
    {
      "cell_type": "markdown",
      "source": [
        "Ques 5.Create an iterator class in Python that generates the Fibonacci sequence up to a specified number of\n",
        "terms."
      ],
      "metadata": {
        "id": "ZKnMfoRphHLC"
      }
    },
    {
      "cell_type": "code",
      "source": [
        "class FibonacciIterator:\n",
        "    \"\"\"\n",
        "    An iterator class that generates the Fibonacci sequence up to a specified number of terms.\n",
        "    \"\"\"\n",
        "\n",
        "    def __init__(self, max_terms):\n",
        "        \"\"\"\n",
        "        Initializes the iterator with the maximum number of terms to generate.\n",
        "\n",
        "        Args:\n",
        "            max_terms: The maximum number of Fibonacci terms to generate.\n",
        "        \"\"\"\n",
        "        self.max_terms = max_terms\n",
        "        self.current_term = 0\n",
        "        self.a = 0\n",
        "        self.b = 1\n",
        "\n",
        "    def __iter__(self):\n",
        "        \"\"\"\n",
        "        Returns the iterator object itself.\n",
        "\n",
        "        Returns:\n",
        "            The iterator object.\n",
        "        \"\"\"\n",
        "        return self\n",
        "\n",
        "    def __next__(self):\n",
        "        \"\"\"\n",
        "        Returns the next Fibonacci number in the sequence.\n",
        "\n",
        "        Returns:\n",
        "            The next Fibonacci number.\n",
        "\n",
        "        Raises:\n",
        "            StopIteration: If the maximum number of terms has been reached.\n",
        "        \"\"\"\n",
        "        if self.current_term < self.max_terms:\n",
        "            result = self.a\n",
        "            self.a, self.b = self.b, self.a + self.b\n",
        "            self.current_term += 1\n",
        "            return result\n",
        "        else:\n",
        "            raise StopIteration\n",
        "\n",
        "# Example usage\n",
        "fib_iterator = FibonacciIterator(10)  # Generate 10 Fibonacci terms\n",
        "\n",
        "for number in fib_iterator:\n",
        "    print(number)"
      ],
      "metadata": {
        "colab": {
          "base_uri": "https://localhost:8080/"
        },
        "id": "93HxdaIuhjM4",
        "outputId": "24656d67-8b93-45b3-aa14-c7f2886065b5"
      },
      "execution_count": 11,
      "outputs": [
        {
          "output_type": "stream",
          "name": "stdout",
          "text": [
            "0\n",
            "1\n",
            "1\n",
            "2\n",
            "3\n",
            "5\n",
            "8\n",
            "13\n",
            "21\n",
            "34\n"
          ]
        }
      ]
    },
    {
      "cell_type": "markdown",
      "source": [
        "Ques 6. Write a generator function in Python that yields the powers of 2 up to a given exponent"
      ],
      "metadata": {
        "id": "5B9CYKKfh4YM"
      }
    },
    {
      "cell_type": "code",
      "source": [
        "def powers_of_2(exponent):\n",
        "  \"\"\"\n",
        "  Generates powers of 2 up to a given exponent.\n",
        "\n",
        "  Args:\n",
        "    exponent: The maximum exponent.\n",
        "\n",
        "  Yields:\n",
        "    Powers of 2 from 2^0 to 2^exponent.\n",
        "  \"\"\"\n",
        "  for i in range(exponent + 1):\n",
        "    yield 2**i\n",
        "\n",
        "# Example usage\n",
        "for power in powers_of_2(5):\n",
        "  print(power)"
      ],
      "metadata": {
        "colab": {
          "base_uri": "https://localhost:8080/"
        },
        "id": "OuTRkr48h8zD",
        "outputId": "01f95f40-599c-44a1-9d32-0119d5384982"
      },
      "execution_count": 12,
      "outputs": [
        {
          "output_type": "stream",
          "name": "stdout",
          "text": [
            "1\n",
            "2\n",
            "4\n",
            "8\n",
            "16\n",
            "32\n"
          ]
        }
      ]
    },
    {
      "cell_type": "markdown",
      "source": [
        "Ques 7.Implement a generator function that reads a file line by line and yields each line as a string\n"
      ],
      "metadata": {
        "id": "5qakh0GXiDwr"
      }
    },
    {
      "cell_type": "code",
      "source": [
        "def read_file_line_by_line(file_path):\n",
        "  \"\"\"Reads a file line by line and yields each line as a string.\n",
        "\n",
        "  Args:\n",
        "    file_path: The path to the file to read.\n",
        "\n",
        "  Yields:\n",
        "    Each line of the file as a string.\n",
        "  \"\"\"\n",
        "  try:\n",
        "    with open(file_path, 'r') as file:\n",
        "        for line in file:\n",
        "            yield line.strip()\n",
        "  except FileNotFoundError:\n",
        "    print(f\"Error: File not found at path: {file_path}\")\n",
        "\n",
        "def read_file_line_by_line(file_path):\n",
        "  \"\"\"Reads a file line by line and yields each line as a string.\n",
        "\n",
        "  Args:\n",
        "    file_path: The path to the file to read.\n",
        "\n",
        "  Yields:\n",
        "    Each line of the file as a string.\n",
        "  \"\"\"\n",
        "  try:\n",
        "    with open(file_path, 'r') as file:\n",
        "        for line in file:\n",
        "            yield line.strip()\n",
        "  except FileNotFoundError:\n",
        "    print(f\"Error: File not found at path: {file_path}\")\n",
        "\n",
        "\n",
        "\n",
        "\n",
        "    #Each line of the file as a string.\n",
        "    #try:\n",
        "    #with open(file_path, 'r') as file:\n",
        "        #for line in file:\n",
        "            #yield line.strip()\n",
        "  #except FileNotFoundError:\n",
        "    #print(f\"Error: File not found at path: {file_path}\")\n",
        "\n",
        "\n",
        "\n",
        "    Each line of the file as a string.\n",
        "    try:\n",
        "    with open(file_path, 'r') as file:\n",
        "        for line in file:\n",
        "            yield line.strip()\n",
        "except FileNotFoundError:\n",
        "    print(f\"Error: File not found at path: {file_path}\")\n",
        "\n",
        ""
      ],
      "metadata": {
        "colab": {
          "base_uri": "https://localhost:8080/",
          "height": 106
        },
        "id": "fHO_1D1CiLBI",
        "outputId": "b7db4d58-380d-4673-e260-1c54fbc4f8eb"
      },
      "execution_count": 21,
      "outputs": [
        {
          "output_type": "error",
          "ename": "SyntaxError",
          "evalue": "invalid syntax (<ipython-input-21-7624caa82eda>, line 46)",
          "traceback": [
            "\u001b[0;36m  File \u001b[0;32m\"<ipython-input-21-7624caa82eda>\"\u001b[0;36m, line \u001b[0;32m46\u001b[0m\n\u001b[0;31m    Each line of the file as a string.\u001b[0m\n\u001b[0m         ^\u001b[0m\n\u001b[0;31mSyntaxError\u001b[0m\u001b[0;31m:\u001b[0m invalid syntax\n"
          ]
        }
      ]
    },
    {
      "cell_type": "markdown",
      "source": [
        "Ques 8.  Use a lambda function in Python to sort a list of tuples based on the second element of each tuple."
      ],
      "metadata": {
        "id": "M2QtNDvQi7fF"
      }
    },
    {
      "cell_type": "code",
      "source": [
        "# Sample list of tuples\n",
        "my_list = [('apple', 3), ('banana', 1), ('orange', 2)]\n",
        "\n",
        "# Sort the list using a lambda function as the key\n",
        "sorted_list = sorted(my_list, key=lambda item: item[1])\n",
        "\n",
        "# Print the sorted list\n",
        "print(sorted_list)  # Output: [('banana', 1), ('orange', 2), ('apple', 3)]"
      ],
      "metadata": {
        "colab": {
          "base_uri": "https://localhost:8080/"
        },
        "id": "1D1sNJjcjDJx",
        "outputId": "2b06e798-c658-436c-e7f9-6b8aee40e056"
      },
      "execution_count": 17,
      "outputs": [
        {
          "output_type": "stream",
          "name": "stdout",
          "text": [
            "[('banana', 1), ('orange', 2), ('apple', 3)]\n"
          ]
        }
      ]
    },
    {
      "cell_type": "markdown",
      "source": [
        "Ques 9.  Write a Python program that uses `map()` to convert a list of temperatures from Celsius to Fahrenheit."
      ],
      "metadata": {
        "id": "7Neq8W40jKwU"
      }
    },
    {
      "cell_type": "code",
      "source": [
        "def celsius_to_fahrenheit(celsius):\n",
        "    \"\"\"Converts Celsius to Fahrenheit.\"\"\"\n",
        "    return (celsius * 9/5) + 32\n",
        "\n",
        "# Sample list of Celsius temperatures\n",
        "celsius_temps = [0, 10, 20, 30, 40]\n",
        "\n",
        "# Use map() to apply the conversion function to each element\n",
        "fahrenheit_temps = list(map(celsius_to_fahrenheit, celsius_temps))\n",
        "\n",
        "# Print the Fahrenheit temperatures\n",
        "print(fahrenheit_temps)  # Output: [32.0, 50.0, 68.0, 86.0, 104.0]"
      ],
      "metadata": {
        "colab": {
          "base_uri": "https://localhost:8080/"
        },
        "id": "Rx8jf8MvjQGE",
        "outputId": "75a9d747-4d3d-458b-c0fb-b1412a61d129"
      },
      "execution_count": 18,
      "outputs": [
        {
          "output_type": "stream",
          "name": "stdout",
          "text": [
            "[32.0, 50.0, 68.0, 86.0, 104.0]\n"
          ]
        }
      ]
    },
    {
      "cell_type": "markdown",
      "source": [
        "Ques 10. Create a Python program that uses `filter()` to remove all the vowels from a given string."
      ],
      "metadata": {
        "id": "MzX6AMxgjiTh"
      }
    },
    {
      "cell_type": "code",
      "source": [
        "def is_not_vowel(char):\n",
        "    \"\"\"Checks if a character is not a vowel.\"\"\"\n",
        "    vowels = \"aeiouAEIOU\"\n",
        "    return char not in vowels\n",
        "\n",
        "# Sample string\n",
        "string = \"Hello, World!\"\n",
        "\n",
        "# Use filter() to remove vowels\n",
        "filtered_string = ''.join(filter(is_not_vowel, string))\n",
        "\n",
        "# Print the filtered string\n",
        "print(filtered_string)  # Output: Hll, Wrld!"
      ],
      "metadata": {
        "colab": {
          "base_uri": "https://localhost:8080/"
        },
        "id": "0wKaBCX8joJ7",
        "outputId": "42d3c479-232d-4c69-b466-05a6981413b9"
      },
      "execution_count": 19,
      "outputs": [
        {
          "output_type": "stream",
          "name": "stdout",
          "text": [
            "Hll, Wrld!\n"
          ]
        }
      ]
    },
    {
      "cell_type": "markdown",
      "source": [
        "Ques 11.  Imagine an accounting routine used in a book shop. It works on a list with sublists, which look like this:\n",
        "\n",
        "\n",
        "\n",
        "\n",
        "\n",
        "\n",
        "\n",
        "Write a Python program, which returns a list with 2-tuples. Each tuple consists of the order number and the\n",
        "product of the price per item and the quantity. The product should be increased by 10,- € if the value of the\n",
        "order is smaller than 100,00 €.\n",
        "\n",
        "Write a Python program using lambda and map.\n",
        "\n",
        "\n",
        "\n",
        "\n"
      ],
      "metadata": {
        "id": "yEwOHDnrjs1R"
      }
    },
    {
      "cell_type": "code",
      "source": [
        "orders = [ [\"34587\", \"Learning Python, Mark Lutz\", 4, 40.95],\n",
        "           [\"98762\", \"Programming Python, Mark Lutz\", 5, 56.80],\n",
        "           [\"77226\", \"Head First Python, Paul Barry\", 3,32.95],\n",
        "           [\"88112\", \"Einführung in Python3, Bernd Klein\", 3, 24.99]]\n",
        "\n",
        "invoice_totals = list(map(lambda x: (x[0], x[2] * x[3] if x[2] * x[3] >= 100 else x[2] * x[3] + 10), orders))\n",
        "\n",
        "print(invoice_totals)"
      ],
      "metadata": {
        "colab": {
          "base_uri": "https://localhost:8080/"
        },
        "id": "CMrh4mCIkcUS",
        "outputId": "d8ee3c16-9ad4-4c94-bf5e-711892a87251"
      },
      "execution_count": 20,
      "outputs": [
        {
          "output_type": "stream",
          "name": "stdout",
          "text": [
            "[('34587', 163.8), ('98762', 284.0), ('77226', 108.85000000000001), ('88112', 84.97)]\n"
          ]
        }
      ]
    },
    {
      "cell_type": "markdown",
      "source": [],
      "metadata": {
        "id": "gEmjyKXVhHHf"
      }
    },
    {
      "cell_type": "markdown",
      "metadata": {
        "id": "aM83ul_gAwJT"
      },
      "source": []
    },
    {
      "cell_type": "code",
      "execution_count": null,
      "metadata": {
        "id": "mYx4NzHGmxZf"
      },
      "outputs": [],
      "source": []
    }
  ],
  "metadata": {
    "colab": {
      "provenance": []
    },
    "kernelspec": {
      "display_name": "Python 3",
      "name": "python3"
    },
    "language_info": {
      "name": "python"
    }
  },
  "nbformat": 4,
  "nbformat_minor": 0
}